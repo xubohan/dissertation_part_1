{
 "cells": [
  {
   "cell_type": "code",
   "execution_count": 1,
   "id": "4a6c95fa",
   "metadata": {},
   "outputs": [],
   "source": [
    "%load_ext cython"
   ]
  },
  {
   "cell_type": "code",
   "execution_count": 2,
   "id": "a3f50073",
   "metadata": {},
   "outputs": [
    {
     "name": "stdout",
     "output_type": "stream",
     "text": [
      "45\n"
     ]
    }
   ],
   "source": [
    "%%cython\n",
    "\n",
    "cdef int a = 0\n",
    "for i in range(10):\n",
    "    a+=i\n",
    "print(a)"
   ]
  },
  {
   "cell_type": "code",
   "execution_count": 3,
   "id": "8d948c66",
   "metadata": {},
   "outputs": [],
   "source": [
    "%%cython\n",
    "\n"
   ]
  },
  {
   "cell_type": "code",
   "execution_count": null,
   "id": "45e49999",
   "metadata": {},
   "outputs": [],
   "source": []
  },
  {
   "cell_type": "code",
   "execution_count": null,
   "id": "0ebd96e9",
   "metadata": {},
   "outputs": [],
   "source": []
  },
  {
   "cell_type": "code",
   "execution_count": null,
   "id": "7e221bb4",
   "metadata": {},
   "outputs": [],
   "source": []
  },
  {
   "cell_type": "code",
   "execution_count": null,
   "id": "f3bb7eea",
   "metadata": {},
   "outputs": [],
   "source": []
  },
  {
   "cell_type": "code",
   "execution_count": null,
   "id": "7c11f64f",
   "metadata": {},
   "outputs": [],
   "source": []
  },
  {
   "cell_type": "code",
   "execution_count": null,
   "id": "287b6cd3",
   "metadata": {},
   "outputs": [],
   "source": []
  },
  {
   "cell_type": "code",
   "execution_count": 4,
   "id": "41f54d59",
   "metadata": {},
   "outputs": [],
   "source": [
    "from __future__ import annotations\n",
    "class Node:\n",
    "    def __init__(self, degree):\n",
    "        self.degree = degree\n",
    "        self.parent: Node = None\n",
    "        self.keys = []\n",
    "        self.values = []\n",
    "\n",
    "    def split(self) -> Node:\n",
    "        mid = int(self.degree // 2)\n",
    "        left = Node(self.degree)\n",
    "        right = Node(self.degree)\n",
    "        \n",
    "        left.parent = self\n",
    "        right.parent = self\n",
    "        \n",
    "        left.keys = self.keys[:mid]\n",
    "        left.values = self.values[:mid+1]\n",
    "        right.keys = self.keys[mid+1:]\n",
    "        right.values = self.values[mid+1:]\n",
    "        \n",
    "        self.values = [left, right]\n",
    "        self.keys = [self.keys[mid]]\n",
    "        \n",
    "        for child in left.values:\n",
    "            if isinstance(child, Node):\n",
    "                child.parent = left\n",
    "        for child in right.values:\n",
    "            if isinstance(child, Node):\n",
    "                child.parent = right\n",
    "        return self\n",
    "    \n",
    "    @property\n",
    "    def size(self)-> int:\n",
    "        return len(self.keys)\n",
    "    \n",
    "    @property\n",
    "    def getKeySize(self)-> int:\n",
    "        return len(self.keys)\n",
    "    \n",
    "    @property\n",
    "    def getValueSize(self)-> int:\n",
    "        return len(self.values)\n",
    "    \n",
    "    @property\n",
    "    def isKeyEmpty(self)-> bool:\n",
    "        return len(self.keys) == 0\n",
    "    \n",
    "    @property\n",
    "    def isValueEmpty(self)-> bool:\n",
    "        return len(self.values) == 0\n",
    "    \n",
    "    @property\n",
    "    def isKeyFull(self) -> bool:\n",
    "        return len(self.keys) == self.degree - 1\n",
    "    \n",
    "    @property\n",
    "    def isValueFull(self) -> bool:\n",
    "        return len(self.values) == self.degree \n",
    "    \n",
    "    @property\n",
    "    def isOneKeyLeft(self) -> bool:\n",
    "        return len(self.keys) <= int(self.degree // 2)\n",
    "\n",
    "    @property\n",
    "    def reachLimit(self) -> bool:\n",
    "        return len(self.keys) <= int(self.degree // 2) - 1\n",
    "\n",
    "    @property\n",
    "    def isRoot(self) -> bool:\n",
    "        return self.parent is None\n",
    "        "
   ]
  },
  {
   "cell_type": "code",
   "execution_count": null,
   "id": "c13b3ab1",
   "metadata": {},
   "outputs": [],
   "source": []
  },
  {
   "cell_type": "code",
   "execution_count": null,
   "id": "880c92af",
   "metadata": {},
   "outputs": [],
   "source": []
  },
  {
   "cell_type": "code",
   "execution_count": null,
   "id": "98c6e635",
   "metadata": {},
   "outputs": [],
   "source": [
    "\n",
    "    "
   ]
  },
  {
   "cell_type": "code",
   "execution_count": 5,
   "id": "d05fffb3",
   "metadata": {},
   "outputs": [],
   "source": [
    "\n",
    "class LeafNode(Node):\n",
    "    def __init__(self, degree):\n",
    "        super().__init__(degree)\n",
    "        self.prev: LeafNode = None\n",
    "        self.next: LeafNode = None\n",
    "    \n",
    "    def insert(self, key, value):\n",
    "        # return {int} for calculating\n",
    "        # the number of keys\n",
    "        if not self.keys:\n",
    "            # if node is not exist\n",
    "            self.keys.append(key)\n",
    "            self.values.append([value])\n",
    "            return 1\n",
    "        for idx,key_val in enumerate(self.keys):\n",
    "            # if key is the same, the value will append the value\n",
    "            if key == key_val:\n",
    "                # use List to store the timestamp here\n",
    "                self.values[idx].append(value)\n",
    "                return 0\n",
    "            \n",
    "            # add it in front of key_val\n",
    "            elif key < key_val:\n",
    "                self.keys = self.keys[:idx] + [key] + self.keys[idx:]\n",
    "                self.values = self.values[:idx] + [[value]] + self.values[idx:]\n",
    "                return 1\n",
    "            # if key is not found, add it to the last position\n",
    "            elif idx + 1 == self.size:\n",
    "                self.keys.append(key)\n",
    "                self.values.append([value])\n",
    "                return 1\n",
    "    \n",
    "    def split(self) ->Node:\n",
    "        # self == left LeafNode\n",
    "        # LeafNode looks like\n",
    "        # creating linked list\n",
    "        mid = int(self.degree // 2)\n",
    "        top = Node(self.degree)\n",
    "        right = LeafNode(self.degree)\n",
    "        self.parent = top\n",
    "        right.parent = top\n",
    "        right.keys = self.keys[mid:]\n",
    "        right.values = self.values[mid:]\n",
    "        right.prev = self\n",
    "        right.next = self.next\n",
    "        \n",
    "        top.keys = [right.keys[0]]\n",
    "        top.values = [self, right]\n",
    "\n",
    "        self.keys = self.keys[:mid]\n",
    "        self.values = self.values[:mid]\n",
    "        self.next = right\n",
    "        return top\n",
    "        "
   ]
  },
  {
   "cell_type": "code",
   "execution_count": 6,
   "id": "a4ded992",
   "metadata": {},
   "outputs": [],
   "source": [
    "from __future__ import annotations\n",
    "class Node:\n",
    "    def __init__(self, degree):\n",
    "        self.degree = degree\n",
    "        self.parent: Node = None\n",
    "        self.keys = []\n",
    "        self.values = []\n",
    "\n",
    "    def split(self) -> Node:\n",
    "        mid = int(self.degree // 2)\n",
    "        left = Node(self.degree)\n",
    "        right = Node(self.degree)\n",
    "        \n",
    "        left.parent = self\n",
    "        right.parent = self\n",
    "        \n",
    "        left.keys = self.keys[:mid]\n",
    "        left.values = self.values[:mid+1]\n",
    "        right.keys = self.keys[mid+1:]\n",
    "        right.values = self.values[mid+1:]\n",
    "        \n",
    "        self.values = [left, right]\n",
    "        self.keys = [self.keys[mid]]\n",
    "        \n",
    "        for child in left.values:\n",
    "            if isinstance(child, Node):\n",
    "                child.parent = left\n",
    "        for child in right.values:\n",
    "            if isinstance(child, Node):\n",
    "                child.parent = right\n",
    "        return self\n",
    "    \n",
    "    @property\n",
    "    def size(self)-> int:\n",
    "        return len(self.keys)\n",
    "    \n",
    "    @property\n",
    "    def getKeySize(self)-> int:\n",
    "        return len(self.keys)\n",
    "    \n",
    "    @property\n",
    "    def getValueSize(self)-> int:\n",
    "        return len(self.values)\n",
    "    \n",
    "    @property\n",
    "    def isKeyEmpty(self)-> bool:\n",
    "        return len(self.keys) == 0\n",
    "    \n",
    "    @property\n",
    "    def isValueEmpty(self)-> bool:\n",
    "        return len(self.values) == 0\n",
    "    \n",
    "    @property\n",
    "    def isKeyFull(self) -> bool:\n",
    "        return len(self.keys) == self.degree - 1\n",
    "    \n",
    "    @property\n",
    "    def isValueFull(self) -> bool:\n",
    "        return len(self.values) == self.degree \n",
    "    \n",
    "    @property\n",
    "    def isOneKeyLeft(self) -> bool:\n",
    "        return len(self.keys) <= int(self.degree // 2)\n",
    "\n",
    "    @property\n",
    "    def reachLimit(self) -> bool:\n",
    "        return len(self.keys) <= int(self.degree // 2) - 1\n",
    "\n",
    "    @property\n",
    "    def isRoot(self) -> bool:\n",
    "        return self.parent is None\n",
    "        \n",
    "\n",
    "class LeafNode(Node):\n",
    "    def __init__(self, degree):\n",
    "        super().__init__(degree)\n",
    "        self.prev: LeafNode = None\n",
    "        self.next: LeafNode = None\n",
    "    \n",
    "    def insert(self, key, value):\n",
    "        # return {int} for calculating\n",
    "        # the number of keys\n",
    "        if not self.keys:\n",
    "            # if node is not exist\n",
    "            self.keys.append(key)\n",
    "            self.values.append([value])\n",
    "            return 1\n",
    "        for idx,key_val in enumerate(self.keys):\n",
    "            # if key is the same, the value will append the value\n",
    "            if key == key_val:\n",
    "                # use List to store the timestamp here\n",
    "                self.values[idx].append(value)\n",
    "                return 0\n",
    "            \n",
    "            # add it in front of key_val\n",
    "            elif key < key_val:\n",
    "                self.keys = self.keys[:idx] + [key] + self.keys[idx:]\n",
    "                self.values = self.values[:idx] + [[value]] + self.values[idx:]\n",
    "                return 1\n",
    "            # if key is not found, add it to the last position\n",
    "            elif idx + 1 == self.size:\n",
    "                self.keys.append(key)\n",
    "                self.values.append([value])\n",
    "                return 1\n",
    "    \n",
    "    def split(self) ->Node:\n",
    "        # self == left LeafNode\n",
    "        # LeafNode looks like\n",
    "        # creating linked list\n",
    "        mid:int = self.degree // 2\n",
    "        top = Node(self.degree)\n",
    "        right = LeafNode(self.degree)\n",
    "        self.parent = top\n",
    "        right.parent = top\n",
    "        right.keys = self.keys[mid:]\n",
    "        right.values = self.values[mid:]\n",
    "        right.prev = self\n",
    "        right.next = self.next\n",
    "        \n",
    "        top.keys = [right.keys[0]]\n",
    "        top.values = [self, right]\n",
    "\n",
    "        self.keys = self.keys[:mid]\n",
    "        self.values = self.values[:mid]\n",
    "        self.next = right\n",
    "        return top\n",
    "\n",
    "\n",
    "\n",
    "class BPTree(object):\n",
    "    # default value could be larger\n",
    "    def __init__(self, degree=9):\n",
    "        # root should be LeafNode to store data\n",
    "        self.root: Node = LeafNode(degree)\n",
    "        self.degree: int = degree\n",
    "        self.__count_keys: int = 0\n",
    "    \n",
    "    def _find(self,node: Node, key):\n",
    "        for idx,key_val in enumerate(node.keys):\n",
    "            if key < key_val:\n",
    "                return node.values[idx],idx\n",
    "            elif idx+1 == node.size:\n",
    "                return node.values[idx+1], idx+1\n",
    "    \n",
    "    def __str__(self):\n",
    "        node = self.head_leafnode\n",
    "        if not node:\n",
    "            return None\n",
    "        temp = ''\n",
    "        while node:\n",
    "            for i in range(node.getValueSize):\n",
    "                temp += str(node.values[i]) + ' -> '\n",
    "            node = node.next\n",
    "        return 'Value List: '+temp +'END'\n",
    "        \n",
    "    \n",
    "    def insert(self, key, value):\n",
    "        node = self.root\n",
    "        while not isinstance(node, LeafNode):\n",
    "            node, idx = self._find(node, key)\n",
    "\n",
    "        self.__count_keys += node.insert(key, value)\n",
    "        while node.size == node.degree:  \n",
    "            if not node.isRoot:\n",
    "                parent = node.parent\n",
    "                node = node.split()  \n",
    "                _, idx = self._find(parent, node.keys[0])\n",
    "                \n",
    "                parent.values.pop(idx)\n",
    "                pivot = node.keys[0]\n",
    "\n",
    "                for node_val in node.values:\n",
    "                    if isinstance(node_val, Node):\n",
    "                        node_val.parent = parent\n",
    "\n",
    "                for idx, par_val in enumerate(parent.keys):\n",
    "                    if pivot < par_val:\n",
    "                        parent.keys = parent.keys[:idx] + [pivot] + parent.keys[idx:]\n",
    "                        parent.values = parent.values[:idx] + node.values + parent.values[idx:]\n",
    "                        break\n",
    "\n",
    "                    elif idx + 1 == parent.size:\n",
    "                        parent.keys.append(pivot)\n",
    "                        parent.values.extend(node.values)\n",
    "                        break   \n",
    "                node = parent\n",
    "            else:\n",
    "                node = node.split()  \n",
    "                self.root = node\n",
    "\n",
    "    def search(self, key):\n",
    "        node = self.root\n",
    "\n",
    "        while not isinstance(node, LeafNode):\n",
    "            node, _ = self._find(node, key)\n",
    "\n",
    "        for idx, key_val in enumerate(node.keys):\n",
    "            if key == key_val:\n",
    "                return node.values[idx]\n",
    "        return None\n",
    "    \n",
    "    @property\n",
    "    def count_keys(self):\n",
    "        return self.__count_keys\n",
    "        \n",
    "    \n",
    "    @property\n",
    "    def head_leafnode(self):\n",
    "        if not self.root:\n",
    "            return None\n",
    "\n",
    "        node = self.root\n",
    "        while not isinstance(node, LeafNode):\n",
    "            node = node.values[0]\n",
    "\n",
    "        return node\n",
    "            "
   ]
  },
  {
   "cell_type": "code",
   "execution_count": 243,
   "id": "36591dc4",
   "metadata": {},
   "outputs": [],
   "source": [
    "# a = BPTree(degree=3)\n",
    "# a.insert((1,1), 1)\n",
    "# a.insert((1,1), 1)\n",
    "# a.insert((1,1), 1)\n",
    "# a.insert((1,1), 1)\n",
    "# a.insert((1,9), 5)\n",
    "# a.insert((1,9), 5)\n",
    "# a.insert((1,3), 9)\n",
    "# a.insert((1,1), 1)\n",
    "# a.insert((1,1), 1)\n",
    "# a.insert((1,1), 1)\n",
    "# a.insert((1,1), 1)\n",
    "# a.insert((1,1), 1)\n",
    "# a.insert((12,9), 9)\n",
    "# a.insert((12,2), 9)\n",
    "# a.insert((12,3), 9)\n",
    "# a.insert((12,4), 9)\n",
    "# a.insert((12,6), 9)\n",
    "# a.insert((12,5), 9)\n",
    "# a.insert((12,5), 9)\n",
    "# a.insert((12,3), 9)\n",
    "# print(a)\n"
   ]
  },
  {
   "cell_type": "code",
   "execution_count": 137,
   "id": "6ebda4d8",
   "metadata": {},
   "outputs": [],
   "source": [
    "# a.count_keys"
   ]
  },
  {
   "cell_type": "code",
   "execution_count": 7,
   "id": "e75c2d9c",
   "metadata": {},
   "outputs": [],
   "source": [
    "class BPTTree(object):\n",
    "    # default value could be larger\n",
    "    def __init__(self, degree=9):\n",
    "        # root should be LeafNode to store data\n",
    "        self.root: Node = LeafNode(degree)\n",
    "        self.degree: int = degree\n",
    "        self.__count_keys: int = 0\n",
    "    \n",
    "    def _find(self,node: Node, key):\n",
    "        for idx,key_val in enumerate(node.keys):\n",
    "            if key < key_val:\n",
    "                return node.values[idx],idx\n",
    "            elif idx+1 == node.size:\n",
    "                return node.values[idx+1], idx+1\n",
    "    \n",
    "    def __str__(self):\n",
    "        node = self.head_leafnode\n",
    "        if not node:\n",
    "            return None\n",
    "        temp = ''\n",
    "        while node:\n",
    "            for i in range(node.getValueSize):\n",
    "                temp += str(node.values[i]) + ' -> '\n",
    "            node = node.next\n",
    "        return 'Value List: '+temp +'END'\n",
    "        \n",
    "    \n",
    "    def insert(self, key, value):\n",
    "        node = self.root\n",
    "        while not isinstance(node, LeafNode):\n",
    "            node, idx = self._find(node, key)\n",
    "\n",
    "        self.__count_keys += node.insert(key, value)\n",
    "        while node.size == node.degree:  \n",
    "            if not node.isRoot:\n",
    "                parent = node.parent\n",
    "                node = node.split()  \n",
    "                _, idx = self._find(parent, node.keys[0])\n",
    "                \n",
    "                parent.values.pop(idx)\n",
    "                pivot = node.keys[0]\n",
    "\n",
    "                for node_val in node.values:\n",
    "                    if isinstance(node_val, Node):\n",
    "                        node_val.parent = parent\n",
    "\n",
    "                for idx, par_val in enumerate(parent.keys):\n",
    "                    if pivot < par_val:\n",
    "                        parent.keys.insert(idx,pivot)\n",
    "                        parent.values = parent.values[:idx] + node.values + parent.values[idx:]\n",
    "                        break\n",
    "\n",
    "                    elif idx + 1 == parent.size:\n",
    "                        parent.keys.append(pivot)\n",
    "                        parent.values.extend(node.values)\n",
    "                        break   \n",
    "                node = parent\n",
    "            else:\n",
    "                node = node.split()  \n",
    "                self.root = node\n",
    "\n",
    "    def search(self, key):\n",
    "        node = self.root\n",
    "\n",
    "        while not isinstance(node, LeafNode):\n",
    "            node, _ = self._find(node, key)\n",
    "\n",
    "        for idx, key_val in enumerate(node.keys):\n",
    "            if key == key_val:\n",
    "                return node.values[idx]\n",
    "        return None\n",
    "    \n",
    "    @property\n",
    "    def count_keys(self):\n",
    "        return self.__count_keys\n",
    "        \n",
    "    \n",
    "    @property\n",
    "    def head_leafnode(self):\n",
    "        if not self.root:\n",
    "            return None\n",
    "\n",
    "        node = self.root\n",
    "        while not isinstance(node, LeafNode):\n",
    "            node = node.values[0]\n",
    "\n",
    "        return node"
   ]
  },
  {
   "cell_type": "code",
   "execution_count": null,
   "id": "fb434706",
   "metadata": {},
   "outputs": [],
   "source": []
  },
  {
   "cell_type": "code",
   "execution_count": 8,
   "id": "2860d926",
   "metadata": {},
   "outputs": [],
   "source": [
    "import os\n",
    "\n",
    "import torch\n",
    "import torch.nn as nn\n",
    "import torch.nn.functional as F\n",
    "from sklearn.linear_model import LogisticRegression\n",
    "from torch_cluster import random_walk\n",
    "\n",
    "import torch_geometric.transforms as T\n",
    "from torch_geometric.datasets import Planetoid\n",
    "from torch_geometric.loader import NeighborSampler as RawNeighborSampler\n",
    "from torch_geometric.nn import SAGEConv\n",
    "\n",
    "# import from glzip\n",
    "from glzip import CSR, GraphSageSampler\n",
    "import datetime\n",
    "import argparse\n",
    "import pandas as pd\n",
    "\n",
    "\n",
    "c = datetime.datetime.now()\n",
    "\n",
    "EPS = 1e-15\n",
    "\n",
    "# path = osp.join(args.root, dataset)\n",
    "# dataset = Planetoid(path, dataset, transform=T.NormalizeFeatures())\n",
    "dt = pd.read_csv(os.path.join(os.path.abspath('.')+'/dataset', 'sx-stackoverflow.txt'), header=None, sep = ' ')"
   ]
  },
  {
   "cell_type": "code",
   "execution_count": 9,
   "id": "cfbd7915",
   "metadata": {},
   "outputs": [],
   "source": [
    "dt = dt.rename(columns = {0:'source', 1:'target', 2:'timestamp'})"
   ]
  },
  {
   "cell_type": "code",
   "execution_count": 31,
   "id": "166dd228",
   "metadata": {},
   "outputs": [],
   "source": [
    "bpt = BPTree(degree=5)\n",
    "bptt = BPTTree(5)"
   ]
  },
  {
   "cell_type": "code",
   "execution_count": 32,
   "id": "d3aa6710",
   "metadata": {
    "scrolled": false
   },
   "outputs": [
    {
     "name": "stdout",
     "output_type": "stream",
     "text": [
      "BPT time spend:  0:00:05.668302\n",
      "True\n"
     ]
    }
   ],
   "source": [
    "testi = bpt.insert\n",
    "testii = bptt.insert\n",
    "c = datetime.datetime.now()\n",
    "\n",
    "# a = map(lambda x,y,z : testi((x,y), z),dt['source'][:1000000],dt['target'][:1000000],dt['timestamp'][:1000000])\n",
    "for i in range(100000):\n",
    "    testi((dt['source'][i],dt['target'][i]),dt['timestamp'][i])\n",
    "    testii((dt['source'][i],dt['target'][i]),dt['timestamp'][i])\n",
    "print('BPT time spend: ',datetime.datetime.now() -c)\n",
    "\n",
    "print(str(bpt) == str(bptt))"
   ]
  },
  {
   "cell_type": "code",
   "execution_count": 285,
   "id": "4e5bb407",
   "metadata": {},
   "outputs": [],
   "source": [
    "#BPT time spend:  0:00:58.454091\n",
    "# BPT time spend:  0:00:44.230663"
   ]
  },
  {
   "cell_type": "code",
   "execution_count": 286,
   "id": "516ad2ca",
   "metadata": {},
   "outputs": [
    {
     "data": {
      "text/plain": [
       "901"
      ]
     },
     "execution_count": 286,
     "metadata": {},
     "output_type": "execute_result"
    }
   ],
   "source": [
    "bpt.count_keys"
   ]
  },
  {
   "cell_type": "code",
   "execution_count": 215,
   "id": "0feb79c2",
   "metadata": {},
   "outputs": [
    {
     "name": "stdout",
     "output_type": "stream",
     "text": [
      "BPT time spend:  0:06:18.607953\n"
     ]
    }
   ],
   "source": [
    "bpt = BPTree(degree=5)\n",
    "testi = bpt.insert\n",
    "a = map(lambda x,y,z : testi((x,y), z),dt['source'][:10000000],dt['target'][:10000000],dt['timestamp'][:10000000])\n",
    "c = datetime.datetime.now()\n",
    "list(a)\n",
    "print('BPT time spend: ',datetime.datetime.now() -c)"
   ]
  },
  {
   "cell_type": "code",
   "execution_count": null,
   "id": "ae3e3a86",
   "metadata": {},
   "outputs": [],
   "source": []
  },
  {
   "cell_type": "code",
   "execution_count": null,
   "id": "46f71b10",
   "metadata": {},
   "outputs": [],
   "source": [
    "def time_range_sampler(target, time_range, nums):\n",
    "    "
   ]
  },
  {
   "cell_type": "code",
   "execution_count": 29,
   "id": "78b066a4",
   "metadata": {},
   "outputs": [],
   "source": [
    "i = 145456"
   ]
  },
  {
   "cell_type": "code",
   "execution_count": 30,
   "id": "119e781a",
   "metadata": {},
   "outputs": [
    {
     "ename": "NameError",
     "evalue": "name 'bpt' is not defined",
     "output_type": "error",
     "traceback": [
      "\u001b[0;31m---------------------------------------------------------------------------\u001b[0m",
      "\u001b[0;31mNameError\u001b[0m                                 Traceback (most recent call last)",
      "Cell \u001b[0;32mIn[30], line 1\u001b[0m\n\u001b[0;32m----> 1\u001b[0m \u001b[43mbpt\u001b[49m\u001b[38;5;241m.\u001b[39msearch((dt[\u001b[38;5;124m'\u001b[39m\u001b[38;5;124msource\u001b[39m\u001b[38;5;124m'\u001b[39m][i],dt[\u001b[38;5;124m'\u001b[39m\u001b[38;5;124mtarget\u001b[39m\u001b[38;5;124m'\u001b[39m][i]))\n",
      "\u001b[0;31mNameError\u001b[0m: name 'bpt' is not defined"
     ]
    }
   ],
   "source": [
    "bpt.search((dt['source'][i],dt['target'][i]))"
   ]
  },
  {
   "cell_type": "code",
   "execution_count": 313,
   "id": "a829b24e",
   "metadata": {},
   "outputs": [
    {
     "name": "stdout",
     "output_type": "stream",
     "text": [
      "0 10\n",
      "1 15\n"
     ]
    }
   ],
   "source": [
    "for idx, num_layer in enumerate([10,15]):\n",
    "    print(idx, num_layer)"
   ]
  },
  {
   "cell_type": "code",
   "execution_count": 314,
   "id": "fd62f701",
   "metadata": {},
   "outputs": [
    {
     "ename": "SyntaxError",
     "evalue": "incomplete input (4052513853.py, line 1)",
     "output_type": "error",
     "traceback": [
      "\u001b[0;36m  Cell \u001b[0;32mIn[314], line 1\u001b[0;36m\u001b[0m\n\u001b[0;31m    def _rec_nodes(source, nums):\u001b[0m\n\u001b[0m                                 ^\u001b[0m\n\u001b[0;31mSyntaxError\u001b[0m\u001b[0;31m:\u001b[0m incomplete input\n"
     ]
    }
   ],
   "source": [
    "def _rec_nodes(source, nums):\n",
    "    "
   ]
  },
  {
   "cell_type": "code",
   "execution_count": null,
   "id": "33dedc4c",
   "metadata": {},
   "outputs": [],
   "source": []
  },
  {
   "cell_type": "code",
   "execution_count": 26,
   "id": "453e46dd",
   "metadata": {},
   "outputs": [],
   "source": [
    "inp = [1,2,3,4,5,6,7,8,9]\n",
    "outp = [1,2,3,4,5,6,7,8,9]"
   ]
  },
  {
   "cell_type": "code",
   "execution_count": 40,
   "id": "7fb8ef49",
   "metadata": {},
   "outputs": [],
   "source": [
    "import numpy as np"
   ]
  },
  {
   "cell_type": "code",
   "execution_count": 42,
   "id": "ba722ccb",
   "metadata": {},
   "outputs": [
    {
     "data": {
      "text/plain": [
       "array([48, 48, 48, 17, 17,  9,  9, 13,  9, 13])"
      ]
     },
     "execution_count": 42,
     "metadata": {},
     "output_type": "execute_result"
    }
   ],
   "source": [
    "np.random.choice(list(dt['source'][:5]),10)"
   ]
  },
  {
   "cell_type": "code",
   "execution_count": null,
   "id": "8e2cbd35",
   "metadata": {},
   "outputs": [],
   "source": []
  },
  {
   "cell_type": "code",
   "execution_count": null,
   "id": "fab5c3eb",
   "metadata": {},
   "outputs": [],
   "source": []
  }
 ],
 "metadata": {
  "kernelspec": {
   "display_name": "glzip",
   "language": "python",
   "name": "glzip"
  },
  "language_info": {
   "codemirror_mode": {
    "name": "ipython",
    "version": 3
   },
   "file_extension": ".py",
   "mimetype": "text/x-python",
   "name": "python",
   "nbconvert_exporter": "python",
   "pygments_lexer": "ipython3",
   "version": "3.10.9"
  }
 },
 "nbformat": 4,
 "nbformat_minor": 5
}
